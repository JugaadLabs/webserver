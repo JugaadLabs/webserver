{
 "cells": [
  {
   "cell_type": "markdown",
   "metadata": {},
   "source": [
    "# Note: this will not work on Jetson because pip3 opencv does not support reading video frames from file! Use the desktop instead."
   ]
  },
  {
   "cell_type": "code",
   "execution_count": null,
   "metadata": {},
   "outputs": [],
   "source": [
    "import numpy as np\n",
    "from scipy import interpolate\n",
    "import os\n",
    "import PIL.Image as Image\n",
    "import cv2\n",
    "import pickle as pkl\n",
    "import pyzed.sl as sl\n",
    "import bisect"
   ]
  },
  {
   "cell_type": "code",
   "execution_count": null,
   "metadata": {},
   "outputs": [],
   "source": [
    "DIR = '/home/nvidia/myrecordings/'\n",
    "CSI_VIDEO = 'CSI_2020-09-30-11-14-18.avi'\n",
    "CSI_PKL = 'CSI_2020-09-30-11-14-18.pkl'\n",
    "ZED_SVO = 'ZED_2020-09-30-11-14-14.svo'\n",
    "\n",
    "CSI_VIDEO_PATH = os.path.join(DIR, CSI_VIDEO)\n",
    "CSI_PKL_PATH = os.path.join(DIR, CSI_PKL)\n",
    "ZED_SVO_PATH = os.path.join(DIR, ZED_SVO)"
   ]
  },
  {
   "cell_type": "code",
   "execution_count": null,
   "metadata": {},
   "outputs": [],
   "source": [
    "vidcap = cv2.VideoCapture(CSI_VIDEO_PATH)\n",
    "vidcap.isOpened()\n",
    "success, img = vidcap.read()"
   ]
  },
  {
   "cell_type": "code",
   "execution_count": null,
   "metadata": {},
   "outputs": [],
   "source": [
    "with open(CSI_PKL_PATH, 'rb') as f:\n",
    "    csi_timestamps = np.array(pkl.load(f))"
   ]
  },
  {
   "cell_type": "code",
   "execution_count": null,
   "metadata": {},
   "outputs": [],
   "source": [
    "init_parameters = sl.InitParameters()\n",
    "init_parameters.set_from_svo_file(ZED_SVO_PATH)\n",
    "\n",
    "zed = sl.Camera()\n",
    "err = zed.open(init_parameters)\n",
    "runtime = sl.RuntimeParameters()\n",
    "svo_image = sl.Mat()\n",
    "depth_map = sl.Mat()\n",
    "\n",
    "if zed.grab() == sl.ERROR_CODE.SUCCESS:\n",
    "    zed.retrieve_image(svo_image, sl.VIEW.DEPTH)\n",
    "    zed.retrieve_measure(depth_map, sl.MEASURE.DEPTH, sl.MEM.CPU)\n",
    "    svo_position = zed.get_svo_position()\n",
    "    t = zed.get_timestamp(sl.TIME_REFERENCE.IMAGE).get_nanoseconds()/1e9\n",
    "    # finds the closest frame, usually correct to a few milliseconds\n",
    "    frame_idx = bisect.bisect_left(csi_timestamps, t)\n",
    "    time_diff = abs(csi_timestamps[frame_idx]-t)\n",
    "    if vidcap.set(cv2.CAP_PROP_POS_FRAMES, frame_idx):\n",
    "        success, csi_img = vidcap.read()\n",
    "    # Now do your processing on csi_img, svo_image, and depth_map"
   ]
  }
 ],
 "metadata": {
  "kernelspec": {
   "display_name": "Python 3",
   "language": "python",
   "name": "python3"
  },
  "language_info": {
   "codemirror_mode": {
    "name": "ipython",
    "version": 3
   },
   "file_extension": ".py",
   "mimetype": "text/x-python",
   "name": "python",
   "nbconvert_exporter": "python",
   "pygments_lexer": "ipython3",
   "version": "3.6.9"
  }
 },
 "nbformat": 4,
 "nbformat_minor": 4
}
